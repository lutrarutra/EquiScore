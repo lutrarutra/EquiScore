{
 "cells": [
  {
   "cell_type": "code",
   "execution_count": 1,
   "metadata": {},
   "outputs": [
    {
     "name": "stderr",
     "output_type": "stream",
     "text": [
      "/m/home/home2/25/gyntera1/unix/mambaforge/envs/torch/lib/python3.7/site-packages/tqdm/auto.py:22: TqdmWarning: IProgress not found. Please update jupyter and ipywidgets. See https://ipywidgets.readthedocs.io/en/stable/user_install.html\n",
      "  from .autonotebook import tqdm as notebook_tqdm\n"
     ]
    }
   ],
   "source": [
    "import torch\n",
    "import torch.nn as nn\n",
    "import torch.nn.functional as F\n",
    "\n",
    "import pandas as pd\n",
    "import numpy as np\n",
    "\n",
    "# DGL\n",
    "import dgl\n",
    "import dgl.function as fn\n",
    "from dgl.dataloading import GraphDataLoader\n",
    "from torch.utils.data.sampler import SubsetRandomSampler\n",
    "\n",
    "# \n",
    "import os\n",
    "import glob, tqdm\n",
    "\n",
    "import matplotlib.pyplot as plt"
   ]
  },
  {
   "cell_type": "code",
   "execution_count": 2,
   "metadata": {},
   "outputs": [
    {
     "data": {
      "text/plain": [
       "device(type='cuda', index=0)"
      ]
     },
     "execution_count": 2,
     "metadata": {},
     "output_type": "execute_result"
    }
   ],
   "source": [
    "device = torch.device(\"cuda:0\" if torch.cuda.is_available() else \"cpu\")\n",
    "device"
   ]
  },
  {
   "cell_type": "code",
   "execution_count": 3,
   "metadata": {},
   "outputs": [],
   "source": [
    "def index_binding_dataset(path):\n",
    "    df = pd.read_csv(path, comment='#', delimiter=r\"\\s+\", usecols=[0,1,2,3,4], index_col=None, header=None)\n",
    "    df.columns = [\"PDB code\", \"resolution\", \"release year\", \"-logKd/Ki\", \"Kd/Ki\"]\n",
    "    \n",
    "    # names = map(lambda s: s.split('_')[0], list(map(os.path.basename, glob.glob(f\"{dataset_dir}/*_ligand.bin\"))))\n",
    "\n",
    "    # df = df[df[\"PDB code\"].isin(names)]\n",
    "    df = df[df[\"Kd/Ki\"].str.contains(\"=\")].reset_index(drop=True)\n",
    "\n",
    "    df[\"unit\"] = \"\"\n",
    "    df[\"value\"] = 0.0\n",
    "    \n",
    "    df.loc[df[\"Kd/Ki\"].str.contains(\"Kd\"), \"unit\"] = \"Kd\"\n",
    "    df.loc[df[\"Kd/Ki\"].str.contains(\"Ki\"), \"unit\"] = \"Ki\"\n",
    "    df.loc[df[\"Kd/Ki\"].str.contains(\"IC50\"), \"unit\"] = \"IC50\"\n",
    "    \n",
    "    # df.loc[df[\"Kd/Ki\"].str.contains(\"M\"), \"value\"] = df.loc[df[\"Kd/Ki\"].str.contains(\"M\"), \"Kd/Ki\"].str.split('=').str[1].str.split(\"M\").str[0].astype(float)\n",
    "    df.loc[df[\"Kd/Ki\"].str.contains(\"mM\"), \"value\"] = df.loc[df[\"Kd/Ki\"].str.contains(\"mM\"), \"Kd/Ki\"].str.split('=').str[1].str.split(\"mM\").str[0].astype(float) * 10**-3\n",
    "    df.loc[df[\"Kd/Ki\"].str.contains(\"uM\"), \"value\"] = df.loc[df[\"Kd/Ki\"].str.contains(\"uM\"), \"Kd/Ki\"].str.split('=').str[1].str.split(\"uM\").str[0].astype(float) * 10**-6\n",
    "    df.loc[df[\"Kd/Ki\"].str.contains(\"nM\"), \"value\"] = df.loc[df[\"Kd/Ki\"].str.contains(\"nM\"), \"Kd/Ki\"].str.split('=').str[1].str.split(\"nM\").str[0].astype(float) * 10**-9\n",
    "    df.loc[df[\"Kd/Ki\"].str.contains(\"pM\"), \"value\"] = df.loc[df[\"Kd/Ki\"].str.contains(\"pM\"), \"Kd/Ki\"].str.split('=').str[1].str.split(\"pM\").str[0].astype(float) * 10**-12\n",
    "    df.loc[df[\"Kd/Ki\"].str.contains(\"fM\"), \"value\"] = df.loc[df[\"Kd/Ki\"].str.contains(\"fM\"), \"Kd/Ki\"].str.split('=').str[1].str.split(\"fM\").str[0].astype(float) * 10**-15\n",
    "    return df.sample(frac=1).reset_index(drop=True)\n"
   ]
  },
  {
   "cell_type": "code",
   "execution_count": 4,
   "metadata": {},
   "outputs": [
    {
     "data": {
      "text/html": [
       "<div>\n",
       "<style scoped>\n",
       "    .dataframe tbody tr th:only-of-type {\n",
       "        vertical-align: middle;\n",
       "    }\n",
       "\n",
       "    .dataframe tbody tr th {\n",
       "        vertical-align: top;\n",
       "    }\n",
       "\n",
       "    .dataframe thead th {\n",
       "        text-align: right;\n",
       "    }\n",
       "</style>\n",
       "<table border=\"1\" class=\"dataframe\">\n",
       "  <thead>\n",
       "    <tr style=\"text-align: right;\">\n",
       "      <th></th>\n",
       "      <th>PDB code</th>\n",
       "      <th>resolution</th>\n",
       "      <th>release year</th>\n",
       "      <th>-logKd/Ki</th>\n",
       "      <th>Kd/Ki</th>\n",
       "      <th>unit</th>\n",
       "      <th>value</th>\n",
       "    </tr>\n",
       "  </thead>\n",
       "  <tbody>\n",
       "    <tr>\n",
       "      <th>0</th>\n",
       "      <td>5cu2</td>\n",
       "      <td>1.71</td>\n",
       "      <td>2016</td>\n",
       "      <td>4.24</td>\n",
       "      <td>Kd=58uM</td>\n",
       "      <td>Kd</td>\n",
       "      <td>5.800000e-05</td>\n",
       "    </tr>\n",
       "    <tr>\n",
       "      <th>1</th>\n",
       "      <td>5nih</td>\n",
       "      <td>1.30</td>\n",
       "      <td>2017</td>\n",
       "      <td>6.87</td>\n",
       "      <td>Ki=134nM</td>\n",
       "      <td>Ki</td>\n",
       "      <td>1.340000e-07</td>\n",
       "    </tr>\n",
       "    <tr>\n",
       "      <th>2</th>\n",
       "      <td>6o5a</td>\n",
       "      <td>1.67</td>\n",
       "      <td>2019</td>\n",
       "      <td>6.29</td>\n",
       "      <td>Ki=514nM</td>\n",
       "      <td>Ki</td>\n",
       "      <td>5.140000e-07</td>\n",
       "    </tr>\n",
       "    <tr>\n",
       "      <th>3</th>\n",
       "      <td>4w9q</td>\n",
       "      <td>1.08</td>\n",
       "      <td>2014</td>\n",
       "      <td>6.85</td>\n",
       "      <td>IC50=140nM</td>\n",
       "      <td>IC50</td>\n",
       "      <td>1.400000e-07</td>\n",
       "    </tr>\n",
       "    <tr>\n",
       "      <th>4</th>\n",
       "      <td>2y6d</td>\n",
       "      <td>1.60</td>\n",
       "      <td>2011</td>\n",
       "      <td>7.10</td>\n",
       "      <td>IC50=79nM</td>\n",
       "      <td>IC50</td>\n",
       "      <td>7.900000e-08</td>\n",
       "    </tr>\n",
       "    <tr>\n",
       "      <th>...</th>\n",
       "      <td>...</td>\n",
       "      <td>...</td>\n",
       "      <td>...</td>\n",
       "      <td>...</td>\n",
       "      <td>...</td>\n",
       "      <td>...</td>\n",
       "      <td>...</td>\n",
       "    </tr>\n",
       "    <tr>\n",
       "      <th>18942</th>\n",
       "      <td>2gek</td>\n",
       "      <td>2.40</td>\n",
       "      <td>2007</td>\n",
       "      <td>7.52</td>\n",
       "      <td>Kd=0.03uM</td>\n",
       "      <td>Kd</td>\n",
       "      <td>3.000000e-08</td>\n",
       "    </tr>\n",
       "    <tr>\n",
       "      <th>18943</th>\n",
       "      <td>4phu</td>\n",
       "      <td>2.33</td>\n",
       "      <td>2014</td>\n",
       "      <td>7.92</td>\n",
       "      <td>Kd=12.04nM</td>\n",
       "      <td>Kd</td>\n",
       "      <td>1.204000e-08</td>\n",
       "    </tr>\n",
       "    <tr>\n",
       "      <th>18944</th>\n",
       "      <td>4l7g</td>\n",
       "      <td>1.38</td>\n",
       "      <td>2013</td>\n",
       "      <td>4.00</td>\n",
       "      <td>IC50=99.3uM</td>\n",
       "      <td>IC50</td>\n",
       "      <td>9.930000e-05</td>\n",
       "    </tr>\n",
       "    <tr>\n",
       "      <th>18945</th>\n",
       "      <td>6dge</td>\n",
       "      <td>1.91</td>\n",
       "      <td>2018</td>\n",
       "      <td>6.72</td>\n",
       "      <td>Ki=0.19uM</td>\n",
       "      <td>Ki</td>\n",
       "      <td>1.900000e-07</td>\n",
       "    </tr>\n",
       "    <tr>\n",
       "      <th>18946</th>\n",
       "      <td>6iar</td>\n",
       "      <td>1.84</td>\n",
       "      <td>2019</td>\n",
       "      <td>7.60</td>\n",
       "      <td>IC50=25.1nM</td>\n",
       "      <td>IC50</td>\n",
       "      <td>2.510000e-08</td>\n",
       "    </tr>\n",
       "  </tbody>\n",
       "</table>\n",
       "<p>18947 rows × 7 columns</p>\n",
       "</div>"
      ],
      "text/plain": [
       "      PDB code resolution  release year  -logKd/Ki        Kd/Ki  unit  \\\n",
       "0         5cu2       1.71          2016       4.24      Kd=58uM    Kd   \n",
       "1         5nih       1.30          2017       6.87     Ki=134nM    Ki   \n",
       "2         6o5a       1.67          2019       6.29     Ki=514nM    Ki   \n",
       "3         4w9q       1.08          2014       6.85   IC50=140nM  IC50   \n",
       "4         2y6d       1.60          2011       7.10    IC50=79nM  IC50   \n",
       "...        ...        ...           ...        ...          ...   ...   \n",
       "18942     2gek       2.40          2007       7.52    Kd=0.03uM    Kd   \n",
       "18943     4phu       2.33          2014       7.92   Kd=12.04nM    Kd   \n",
       "18944     4l7g       1.38          2013       4.00  IC50=99.3uM  IC50   \n",
       "18945     6dge       1.91          2018       6.72    Ki=0.19uM    Ki   \n",
       "18946     6iar       1.84          2019       7.60  IC50=25.1nM  IC50   \n",
       "\n",
       "              value  \n",
       "0      5.800000e-05  \n",
       "1      1.340000e-07  \n",
       "2      5.140000e-07  \n",
       "3      1.400000e-07  \n",
       "4      7.900000e-08  \n",
       "...             ...  \n",
       "18942  3.000000e-08  \n",
       "18943  1.204000e-08  \n",
       "18944  9.930000e-05  \n",
       "18945  1.900000e-07  \n",
       "18946  2.510000e-08  \n",
       "\n",
       "[18947 rows x 7 columns]"
      ]
     },
     "execution_count": 4,
     "metadata": {},
     "output_type": "execute_result"
    }
   ],
   "source": [
    "df = index_binding_dataset(\"data/PDBbind_refined/index/INDEX_general_PL_data.2020\")\n",
    "# df = df[df[\"unit\"] == \"IC50\"]\n",
    "# df = df.loc[:5000]\n",
    "df"
   ]
  },
  {
   "cell_type": "code",
   "execution_count": 5,
   "metadata": {},
   "outputs": [],
   "source": [
    "def get_dataloader(df):\n",
    "    dataset = []\n",
    "    for index, row in tqdm.tqdm(df.iterrows()):\n",
    "        name = row['PDB code']\n",
    "        # lig_path = f\"data/dataset/{name}_ligand.bin\"\n",
    "        # rec_path = f\"data/dataset/{name}_protein.bin\"\n",
    "        path = f\"data/dataset/{name}_complex.bin\"\n",
    "        # if os.path.exists(lig_path) and os.path.exists(rec_path):\n",
    "        #     lig_graph = dgl.load_graphs(lig_path)[0][0]\n",
    "        #     rec_graph = dgl.load_graphs(rec_path)[0][0]\n",
    "        # col = \"value\"\n",
    "        col = \"-logKd/Ki\"\n",
    "        if os.path.exists(path) and os.stat(path).st_size != 0:\n",
    "            graph = dgl.add_self_loop(dgl.load_graphs(path)[0][0]).to(device)\n",
    "            if row[\"unit\"] == \"Kd\":\n",
    "                label = torch.as_tensor([row[col], 0.0, 0.0]).to(device)\n",
    "                mask = torch.as_tensor([1.0,0.0,0.0]).to(device)\n",
    "            elif row[\"unit\"] == \"Ki\":\n",
    "                label = torch.as_tensor([0.0, row[col], 0.0]).to(device)\n",
    "                mask = torch.as_tensor([0.0,1.0,0.0]).to(device)\n",
    "            elif row[\"unit\"] == \"IC50\":\n",
    "                label = torch.as_tensor([0.0, 0.0, row[col]]).to(device)\n",
    "                mask = torch.as_tensor([0.0,0.0,1.0]).to(device)\n",
    "\n",
    "            dataset.append((graph, label, mask))\n",
    "\n",
    "    num_examples = len(dataset)\n",
    "    num_train = int(num_examples * 0.8)\n",
    "    train_sampler = SubsetRandomSampler(torch.arange(num_train))\n",
    "    test_sampler = SubsetRandomSampler(torch.arange(num_train, num_examples))\n",
    "    train_dataloader = GraphDataLoader(dataset, sampler=train_sampler, batch_size=512, drop_last=False)\n",
    "    test_dataloader = GraphDataLoader(dataset, sampler=test_sampler, batch_size=128, drop_last=False)\n",
    "    return (train_dataloader, test_dataloader)\n",
    "    "
   ]
  },
  {
   "cell_type": "code",
   "execution_count": 6,
   "metadata": {},
   "outputs": [
    {
     "name": "stderr",
     "output_type": "stream",
     "text": [
      "18947it [01:07, 281.51it/s]\n"
     ]
    }
   ],
   "source": [
    "torch.cuda.empty_cache()\n",
    "train_loader, test_loader = get_dataloader(df)"
   ]
  },
  {
   "cell_type": "code",
   "execution_count": 7,
   "metadata": {},
   "outputs": [],
   "source": [
    "class EquiScore(nn.Module):\n",
    "    def __init__(self,g,\n",
    "            h_nfeatures=128, h_efeatures=56, out_features=3,\n",
    "            num_embeddings=[50, 120, 40, 40], embedding_dims=[5,10,5,5],\n",
    "            embedding_activation=torch.nn.Identity(),\n",
    "            edge_activation=torch.nn.ReLU(),\n",
    "            graph_activation=torch.nn.ReLU()\n",
    "        ):\n",
    "        super(EquiScore, self).__init__()\n",
    "\n",
    "        # hyper parameters\n",
    "        self.emb_activation = embedding_activation\n",
    "        self.edge_activation = edge_activation\n",
    "        self.graph_activation = graph_activation\n",
    "        \n",
    "        # Embedding Layers for node features (categorical)\n",
    "        # num_embeddings = number of classes for a feature\n",
    "        # Embedding dims : hyperparameters\n",
    "        self.emb_f1 = torch.nn.Embedding(num_embeddings=num_embeddings[0], embedding_dim=embedding_dims[0], device=device)\n",
    "        self.emb_f2 = torch.nn.Embedding(num_embeddings=num_embeddings[1], embedding_dim=embedding_dims[1], device=device)\n",
    "        self.emb_f3 = torch.nn.Embedding(num_embeddings=num_embeddings[2], embedding_dim=embedding_dims[2], device=device)\n",
    "        self.emb_f4 = torch.nn.Embedding(num_embeddings=num_embeddings[3], embedding_dim=embedding_dims[3], device=device)\n",
    "\n",
    "        # Encoded categorical features + rest of node features (non-categorical)\n",
    "        self.emb_dim = embedding_dims[0] + embedding_dims[1] + embedding_dims[2] + embedding_dims[3] + 2\n",
    "\n",
    "        # Linear MLP for edge features encoding\n",
    "        # output shape either 1 or emb_dim\n",
    "        self.el1 = torch.nn.Linear(in_features=g.edata['feat'].shape[1], out_features=h_efeatures, device=device)\n",
    "        self.el2 = torch.nn.Linear(in_features=h_efeatures, out_features=h_efeatures, device=device)\n",
    "        self.el3 = torch.nn.Linear(in_features=h_efeatures, out_features=h_efeatures, device=device)\n",
    "        self.el4 = torch.nn.Linear(in_features=h_efeatures, out_features=h_efeatures, device=device)\n",
    "        # self.el_out = torch.nn.Linear(in_features=h_efeatures, out_features=1, device=device)\n",
    "        self.el_out = torch.nn.Linear(in_features=h_efeatures, out_features=self.emb_dim, device=device)\n",
    "\n",
    "        # Graph convolution layers\n",
    "        self.gcl1 = dgl.nn.GraphConv(in_feats=self.emb_dim, out_feats=h_nfeatures)\n",
    "        self.gcl2 = dgl.nn.GraphConv(in_feats=h_nfeatures, out_feats=h_nfeatures)\n",
    "        self.gcl3 = dgl.nn.GraphConv(in_feats=h_nfeatures, out_feats=h_nfeatures)\n",
    "        self.gcl4 = dgl.nn.GraphConv(in_feats=h_nfeatures, out_feats=h_nfeatures)\n",
    "        self.g_out = dgl.nn.GraphConv(in_feats=h_nfeatures, out_feats=out_features)\n",
    "\n",
    "\n",
    "    def forward(self, g):\n",
    "        # Edge features encoding\n",
    "        w = self.edge_activation(self.el1(g.edata['feat']))\n",
    "        w = self.edge_activation(self.el2(w))\n",
    "        w = self.edge_activation(self.el3(w))\n",
    "        w = self.edge_activation(self.el4(w))\n",
    "        w = self.el_out(w)\n",
    "\n",
    "        # Categorical node features encoding\n",
    "        f1 = self.emb_activation(self.emb_f1(g.ndata['feat'][:,0].int()))\n",
    "        f2 = self.emb_activation(self.emb_f2(g.ndata['feat'][:,1].int()))\n",
    "        f3 = self.emb_activation(self.emb_f3(g.ndata['feat'][:,2].int()))\n",
    "        f4 = self.emb_activation(self.emb_f4(g.ndata['feat'][:,3].int()))\n",
    "        \n",
    "        h = torch.cat([f1, f2, f3, f4, g.ndata['feat'][:,4:5], g.ndata['feat'][:,5:6]], dim=1)\n",
    "\n",
    "        # Graph Convolution\n",
    "        h = self.graph_activation(self.gcl1(g, h, edge_weight=w))\n",
    "        h = self.graph_activation(self.gcl2(g, h))\n",
    "        h = self.graph_activation(self.gcl3(g, h))\n",
    "        h = self.graph_activation(self.gcl4(g, h))\n",
    "        h = self.g_out(g, h)\n",
    "\n",
    "        # Aggregation to out_features-dimension by summing node neurons\n",
    "        # I.e. [Kd, Ki, IC50]\n",
    "        with g.local_scope():\n",
    "            g.ndata['h'] = h\n",
    "            return dgl.sum_nodes(g, 'h')\n",
    "\n",
    "def create_model(g):\n",
    "    model = EquiScore(g)\n",
    "    return model"
   ]
  },
  {
   "cell_type": "code",
   "execution_count": 8,
   "metadata": {},
   "outputs": [],
   "source": [
    "def validation_loss(model, loader, loss_fn):\n",
    "    model.eval()\n",
    "    with torch.no_grad():\n",
    "        running_loss = 0.0\n",
    "        preds = []\n",
    "        labels = []\n",
    "        n = 0\n",
    "        for g, label, mask in loader:\n",
    "            n += mask.shape[0]\n",
    "            pred = model(g)*mask\n",
    "            preds.extend(torch.sum(pred.cpu(), axis=1).tolist())\n",
    "            labels.extend(torch.sum(label.cpu(), axis=1).tolist())\n",
    "            loss = mse_loss(pred, label)\n",
    "            running_loss += loss.item()\n",
    "            \n",
    "        return running_loss / n, preds, labels"
   ]
  },
  {
   "cell_type": "code",
   "execution_count": 9,
   "metadata": {},
   "outputs": [
    {
     "data": {
      "text/plain": [
       "torch.Size([166261, 6])"
      ]
     },
     "execution_count": 9,
     "metadata": {},
     "output_type": "execute_result"
    }
   ],
   "source": [
    "g, label, mask = next(iter(train_loader))\n",
    "g.ndata['feat'].shape"
   ]
  },
  {
   "cell_type": "code",
   "execution_count": 67,
   "metadata": {},
   "outputs": [
    {
     "name": "stdout",
     "output_type": "stream",
     "text": [
      "Epoch 300 Loss: 4.253    \r"
     ]
    }
   ],
   "source": [
    "g, label, mask = next(iter(train_loader))\n",
    "model = create_model(g).to(device)\n",
    "params = model.parameters()\n",
    "\n",
    "mse_loss = torch.nn.MSELoss(reduction='sum')\n",
    "optimizer = torch.optim.Adam(params, lr=0.001, weight_decay=0.01)\n",
    "\n",
    "L = []\n",
    "\n",
    "for epoch in range(301):\n",
    "    model.train()\n",
    "    for g, label, mask in train_loader:\n",
    "        pred = model(g)*mask\n",
    "        loss = mse_loss(pred, label)\n",
    "        optimizer.zero_grad()\n",
    "        loss.backward()\n",
    "        optimizer.step()\n",
    "        \n",
    "    if epoch % 5 == 0:\n",
    "        vl, _, _ = validation_loss(model, test_loader, mse_loss)\n",
    "        L.append((epoch, vl))\n",
    "        print(f\"Epoch {epoch} Loss: {vl:.3f}    \", end=\"\\r\")\n"
   ]
  },
  {
   "cell_type": "code",
   "execution_count": 68,
   "metadata": {},
   "outputs": [
    {
     "data": {
      "image/png": "[encoded data removed]",
      "text/plain": [
       "<Figure size 432x432 with 1 Axes>"
      ]
     },
     "metadata": {
      "needs_background": "light"
     },
     "output_type": "display_data"
    }
   ],
   "source": [
    "fig, ax = plt.subplots(figsize=(6, 6))\n",
    "ax.plot(*zip(*L))\n",
    "plt.xlabel(\"Epoch\")\n",
    "plt.ylabel(\"Validation Loss (MSE)\")\n",
    "plt.show()"
   ]
  },
  {
   "cell_type": "code",
   "execution_count": 69,
   "metadata": {},
   "outputs": [
    {
     "data": {
      "image/png": "[encoded data removed]",
      "text/plain": [
       "<Figure size 432x432 with 1 Axes>"
      ]
     },
     "metadata": {
      "needs_background": "light"
     },
     "output_type": "display_data"
    }
   ],
   "source": [
    "L, Y_pred, Y_true = validation_loss(model, test_loader, mse_loss)\n",
    "\n",
    "fig, ax = plt.subplots(figsize=(6, 6))\n",
    "ax.plot(Y_true, Y_pred, '.')\n",
    "ax.plot([0,15], [0,15], label=\"y=x\")\n",
    "plt.xlim([0, 15])\n",
    "plt.ylim([0, 15])\n",
    "corr = np.corrcoef(Y_true, Y_pred)[0,1]\n",
    "plt.title(f\"Correlation: {corr:.2f}, MSE: {L:.2f}\")\n",
    "plt.ylabel(\"Prediction (-log [Kd/Ki/IC50])\")\n",
    "plt.xlabel(\"True (-log [Kd/Ki/IC50])\")\n",
    "plt.legend()\n",
    "plt.show()"
   ]
  },
  {
   "cell_type": "code",
   "execution_count": 55,
   "metadata": {},
   "outputs": [],
   "source": [
    "torch.cuda.empty_cache()"
   ]
  },
  {
   "cell_type": "code",
   "execution_count": null,
   "metadata": {},
   "outputs": [],
   "source": []
  }
 ],
 "metadata": {
  "interpreter": {
   "hash": "31f2aee4e71d21fbe5cf8b01ff0e069b9275f58929596ceb00d14d90e3e16cd6"
  },
  "kernelspec": {
   "display_name": "Julia 1.7.2",
   "language": "python",
   "name": "python3"
  },
  "language_info": {
   "codemirror_mode": {
    "name": "ipython",
    "version": 3
   },
   "file_extension": ".py",
   "mimetype": "text/x-python",
   "name": "python",
   "nbconvert_exporter": "python",
   "pygments_lexer": "ipython3",
   "version": "3.7.12"
  },
  "orig_nbformat": 4
 },
 "nbformat": 4,
 "nbformat_minor": 2
}
